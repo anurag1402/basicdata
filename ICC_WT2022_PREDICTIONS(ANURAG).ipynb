{
  "nbformat": 4,
  "nbformat_minor": 5,
  "metadata": {
    "kernelspec": {
      "display_name": "Python 3 (ipykernel)",
      "language": "python",
      "name": "python3"
    },
    "language_info": {
      "codemirror_mode": {
        "name": "ipython",
        "version": 3
      },
      "file_extension": ".py",
      "mimetype": "text/x-python",
      "name": "python",
      "nbconvert_exporter": "python",
      "pygments_lexer": "ipython3",
      "version": "3.9.6"
    },
    "colab": {
      "provenance": [],
      "include_colab_link": true
    }
  },
  "cells": [
    {
      "cell_type": "markdown",
      "metadata": {
        "id": "view-in-github",
        "colab_type": "text"
      },
      "source": [
        "<a href=\"https://colab.research.google.com/github/anurag1402/basicdata/blob/main/ICC_WT2022_PREDICTIONS(ANURAG).ipynb\" target=\"_parent\"><img src=\"https://colab.research.google.com/assets/colab-badge.svg\" alt=\"Open In Colab\"/></a>"
      ]
    },
    {
      "cell_type": "code",
      "metadata": {
        "id": "8139e4ab"
      },
      "source": [
        "from sklearn.model_selection import train_test_split\n",
        "from sklearn.linear_model import LogisticRegression\n",
        "import pandas as pd\n",
        "import numpy as np\n",
        "import matplotlib.pyplot as plt\n",
        "import seaborn as sns\n",
        "from sklearn.ensemble import RandomForestClassifier"
      ],
      "id": "8139e4ab",
      "execution_count": null,
      "outputs": []
    },
    {
      "cell_type": "code",
      "metadata": {
        "id": "e014bf08"
      },
      "source": [
        "results=pd.read_csv(r'C:\\Users\\msdan\\Desktop\\final project\\Past Results.csv')\n",
        "worldt20=df=pd.read_csv(r'C:\\Users\\msdan\\Desktop\\final project\\Past Tournaments.csv')\n",
        "results.head(10)\n"
      ],
      "id": "e014bf08",
      "execution_count": null,
      "outputs": []
    },
    {
      "cell_type": "code",
      "metadata": {
        "id": "300387f3"
      },
      "source": [
        "current_teams = ['England', 'South Africa', 'West Indies', \n",
        "            'Pakistan', 'New Zealand', 'Sri Lanka', 'Afghanistan', \n",
        "            'Australia', 'Bangladesh', 'India','Oman','Ireland','Scotland','Papua New Guinea','Namibia','Netherlands']\n"
      ],
      "id": "300387f3",
      "execution_count": null,
      "outputs": []
    },
    {
      "cell_type": "code",
      "metadata": {
        "id": "6eb7e52e"
      },
      "source": [
        "results= results[(results['Team1'].isin(current_teams)) &(results['Team2'].isin(current_teams))]"
      ],
      "id": "6eb7e52e",
      "execution_count": null,
      "outputs": []
    },
    {
      "cell_type": "code",
      "metadata": {
        "id": "36741fc2",
        "outputId": "5f77720f-12f5-4f2e-c55c-d6c9f553b314",
        "colab": {
          "base_uri": "https://localhost:8080/",
          "height": 238
        }
      },
      "source": [
        "df_team_1=results[results[\"Team1\"].isin(current_teams)]\n",
        "df_team_2=results[results[\"Team2\"].isin(current_teams)]\n",
        "df_team_3=results[results[\"Winner\"].isin(current_teams)]\n",
        "df_teams=pd.concat((df_team_1,df_team_2,df_team_3))\n",
        "df_teams.drop_duplicates()\n",
        "df_teams.count()"
      ],
      "id": "36741fc2",
      "execution_count": null,
      "outputs": [
        {
          "output_type": "error",
          "ename": "NameError",
          "evalue": "ignored",
          "traceback": [
            "\u001b[0;31m---------------------------------------------------------------------------\u001b[0m",
            "\u001b[0;31mNameError\u001b[0m                                 Traceback (most recent call last)",
            "\u001b[0;32m<ipython-input-2-ae970d978d88>\u001b[0m in \u001b[0;36m<module>\u001b[0;34m()\u001b[0m\n\u001b[0;32m----> 1\u001b[0;31m \u001b[0mdf_team_1\u001b[0m\u001b[0;34m=\u001b[0m\u001b[0mresults\u001b[0m\u001b[0;34m[\u001b[0m\u001b[0mresults\u001b[0m\u001b[0;34m[\u001b[0m\u001b[0;34m\"Team1\"\u001b[0m\u001b[0;34m]\u001b[0m\u001b[0;34m.\u001b[0m\u001b[0misin\u001b[0m\u001b[0;34m(\u001b[0m\u001b[0mcurrent_teams\u001b[0m\u001b[0;34m)\u001b[0m\u001b[0;34m]\u001b[0m\u001b[0;34m\u001b[0m\u001b[0;34m\u001b[0m\u001b[0m\n\u001b[0m\u001b[1;32m      2\u001b[0m \u001b[0mdf_team_2\u001b[0m\u001b[0;34m=\u001b[0m\u001b[0mresults\u001b[0m\u001b[0;34m[\u001b[0m\u001b[0mresults\u001b[0m\u001b[0;34m[\u001b[0m\u001b[0;34m\"Team2\"\u001b[0m\u001b[0;34m]\u001b[0m\u001b[0;34m.\u001b[0m\u001b[0misin\u001b[0m\u001b[0;34m(\u001b[0m\u001b[0mcurrent_teams\u001b[0m\u001b[0;34m)\u001b[0m\u001b[0;34m]\u001b[0m\u001b[0;34m\u001b[0m\u001b[0;34m\u001b[0m\u001b[0m\n\u001b[1;32m      3\u001b[0m \u001b[0mdf_team_3\u001b[0m\u001b[0;34m=\u001b[0m\u001b[0mresults\u001b[0m\u001b[0;34m[\u001b[0m\u001b[0mresults\u001b[0m\u001b[0;34m[\u001b[0m\u001b[0;34m\"Winner\"\u001b[0m\u001b[0;34m]\u001b[0m\u001b[0;34m.\u001b[0m\u001b[0misin\u001b[0m\u001b[0;34m(\u001b[0m\u001b[0mcurrent_teams\u001b[0m\u001b[0;34m)\u001b[0m\u001b[0;34m]\u001b[0m\u001b[0;34m\u001b[0m\u001b[0;34m\u001b[0m\u001b[0m\n\u001b[1;32m      4\u001b[0m \u001b[0mdf_teams\u001b[0m\u001b[0;34m=\u001b[0m\u001b[0mpd\u001b[0m\u001b[0;34m.\u001b[0m\u001b[0mconcat\u001b[0m\u001b[0;34m(\u001b[0m\u001b[0;34m(\u001b[0m\u001b[0mdf_team_1\u001b[0m\u001b[0;34m,\u001b[0m\u001b[0mdf_team_2\u001b[0m\u001b[0;34m,\u001b[0m\u001b[0mdf_team_3\u001b[0m\u001b[0;34m)\u001b[0m\u001b[0;34m)\u001b[0m\u001b[0;34m\u001b[0m\u001b[0;34m\u001b[0m\u001b[0m\n\u001b[1;32m      5\u001b[0m \u001b[0mdf_teams\u001b[0m\u001b[0;34m.\u001b[0m\u001b[0mdrop_duplicates\u001b[0m\u001b[0;34m(\u001b[0m\u001b[0;34m)\u001b[0m\u001b[0;34m\u001b[0m\u001b[0;34m\u001b[0m\u001b[0m\n",
            "\u001b[0;31mNameError\u001b[0m: name 'results' is not defined"
          ]
        }
      ]
    },
    {
      "cell_type": "code",
      "metadata": {
        "id": "a69f1603",
        "outputId": "556d0e12-1e0d-468c-cca2-0eb88543637e",
        "colab": {
          "base_uri": "https://localhost:8080/",
          "height": 167
        }
      },
      "source": [
        "df_teams.head(100)"
      ],
      "id": "a69f1603",
      "execution_count": null,
      "outputs": [
        {
          "output_type": "error",
          "ename": "NameError",
          "evalue": "ignored",
          "traceback": [
            "\u001b[0;31m---------------------------------------------------------------------------\u001b[0m",
            "\u001b[0;31mNameError\u001b[0m                                 Traceback (most recent call last)",
            "\u001b[0;32m<ipython-input-1-41a1c5c34aba>\u001b[0m in \u001b[0;36m<module>\u001b[0;34m()\u001b[0m\n\u001b[0;32m----> 1\u001b[0;31m \u001b[0mdf_teams\u001b[0m\u001b[0;34m.\u001b[0m\u001b[0mhead\u001b[0m\u001b[0;34m(\u001b[0m\u001b[0;36m100\u001b[0m\u001b[0;34m)\u001b[0m\u001b[0;34m\u001b[0m\u001b[0;34m\u001b[0m\u001b[0m\n\u001b[0m",
            "\u001b[0;31mNameError\u001b[0m: name 'df_teams' is not defined"
          ]
        }
      ]
    },
    {
      "cell_type": "code",
      "metadata": {
        "id": "167cc11c",
        "outputId": "38b88b3c-0f6a-46f1-8ec3-e793fa665a3e"
      },
      "source": [
        "df_teams=df_teams.drop([\"Match Date\",\"Margin\",\"Ground\",\"Scorecard\"],axis=1)\n",
        "df_teams.head()"
      ],
      "id": "167cc11c",
      "execution_count": null,
      "outputs": [
        {
          "data": {
            "text/html": [
              "<div>\n",
              "<style scoped>\n",
              "    .dataframe tbody tr th:only-of-type {\n",
              "        vertical-align: middle;\n",
              "    }\n",
              "\n",
              "    .dataframe tbody tr th {\n",
              "        vertical-align: top;\n",
              "    }\n",
              "\n",
              "    .dataframe thead th {\n",
              "        text-align: right;\n",
              "    }\n",
              "</style>\n",
              "<table border=\"1\" class=\"dataframe\">\n",
              "  <thead>\n",
              "    <tr style=\"text-align: right;\">\n",
              "      <th></th>\n",
              "      <th>ID</th>\n",
              "      <th>Team1</th>\n",
              "      <th>Team2</th>\n",
              "      <th>Winner</th>\n",
              "    </tr>\n",
              "  </thead>\n",
              "  <tbody>\n",
              "    <tr>\n",
              "      <th>2</th>\n",
              "      <td>3</td>\n",
              "      <td>England</td>\n",
              "      <td>Sri Lanka</td>\n",
              "      <td>England</td>\n",
              "    </tr>\n",
              "    <tr>\n",
              "      <th>3</th>\n",
              "      <td>4</td>\n",
              "      <td>India</td>\n",
              "      <td>West Indies</td>\n",
              "      <td>West Indies</td>\n",
              "    </tr>\n",
              "    <tr>\n",
              "      <th>4</th>\n",
              "      <td>5</td>\n",
              "      <td>India</td>\n",
              "      <td>West Indies</td>\n",
              "      <td>no result</td>\n",
              "    </tr>\n",
              "    <tr>\n",
              "      <th>6</th>\n",
              "      <td>7</td>\n",
              "      <td>Sri Lanka</td>\n",
              "      <td>Australia</td>\n",
              "      <td>Australia</td>\n",
              "    </tr>\n",
              "    <tr>\n",
              "      <th>7</th>\n",
              "      <td>8</td>\n",
              "      <td>England</td>\n",
              "      <td>Pakistan</td>\n",
              "      <td>Pakistan</td>\n",
              "    </tr>\n",
              "  </tbody>\n",
              "</table>\n",
              "</div>"
            ],
            "text/plain": [
              "   ID      Team1        Team2       Winner\n",
              "2   3    England    Sri Lanka      England\n",
              "3   4      India  West Indies  West Indies\n",
              "4   5      India  West Indies    no result\n",
              "6   7  Sri Lanka    Australia    Australia\n",
              "7   8    England     Pakistan     Pakistan"
            ]
          },
          "execution_count": 464,
          "metadata": {},
          "output_type": "execute_result"
        }
      ]
    },
    {
      "cell_type": "code",
      "metadata": {
        "id": "a2dcd54a"
      },
      "source": [
        "df_teams.drop(df_teams.index[(df_teams[\"Winner\"] == \"tied\")],axis=0,inplace=True)"
      ],
      "id": "a2dcd54a",
      "execution_count": null,
      "outputs": []
    },
    {
      "cell_type": "code",
      "metadata": {
        "id": "bd4c2101"
      },
      "source": [
        "df_teams.drop(df_teams.index[(df_teams[\"Winner\"] == \"no result\")],axis=0,inplace=True)"
      ],
      "id": "bd4c2101",
      "execution_count": null,
      "outputs": []
    },
    {
      "cell_type": "code",
      "metadata": {
        "id": "2b6e469b",
        "outputId": "8ac0b2f7-289c-49cb-9da8-bf98e6d8554f"
      },
      "source": [
        "df_teams.head()"
      ],
      "id": "2b6e469b",
      "execution_count": null,
      "outputs": [
        {
          "data": {
            "text/html": [
              "<div>\n",
              "<style scoped>\n",
              "    .dataframe tbody tr th:only-of-type {\n",
              "        vertical-align: middle;\n",
              "    }\n",
              "\n",
              "    .dataframe tbody tr th {\n",
              "        vertical-align: top;\n",
              "    }\n",
              "\n",
              "    .dataframe thead th {\n",
              "        text-align: right;\n",
              "    }\n",
              "</style>\n",
              "<table border=\"1\" class=\"dataframe\">\n",
              "  <thead>\n",
              "    <tr style=\"text-align: right;\">\n",
              "      <th></th>\n",
              "      <th>ID</th>\n",
              "      <th>Team1</th>\n",
              "      <th>Team2</th>\n",
              "      <th>Winner</th>\n",
              "    </tr>\n",
              "  </thead>\n",
              "  <tbody>\n",
              "    <tr>\n",
              "      <th>2</th>\n",
              "      <td>3</td>\n",
              "      <td>England</td>\n",
              "      <td>Sri Lanka</td>\n",
              "      <td>England</td>\n",
              "    </tr>\n",
              "    <tr>\n",
              "      <th>3</th>\n",
              "      <td>4</td>\n",
              "      <td>India</td>\n",
              "      <td>West Indies</td>\n",
              "      <td>West Indies</td>\n",
              "    </tr>\n",
              "    <tr>\n",
              "      <th>6</th>\n",
              "      <td>7</td>\n",
              "      <td>Sri Lanka</td>\n",
              "      <td>Australia</td>\n",
              "      <td>Australia</td>\n",
              "    </tr>\n",
              "    <tr>\n",
              "      <th>7</th>\n",
              "      <td>8</td>\n",
              "      <td>England</td>\n",
              "      <td>Pakistan</td>\n",
              "      <td>Pakistan</td>\n",
              "    </tr>\n",
              "    <tr>\n",
              "      <th>8</th>\n",
              "      <td>9</td>\n",
              "      <td>Sri Lanka</td>\n",
              "      <td>Australia</td>\n",
              "      <td>Australia</td>\n",
              "    </tr>\n",
              "  </tbody>\n",
              "</table>\n",
              "</div>"
            ],
            "text/plain": [
              "   ID      Team1        Team2       Winner\n",
              "2   3    England    Sri Lanka      England\n",
              "3   4      India  West Indies  West Indies\n",
              "6   7  Sri Lanka    Australia    Australia\n",
              "7   8    England     Pakistan     Pakistan\n",
              "8   9  Sri Lanka    Australia    Australia"
            ]
          },
          "execution_count": 467,
          "metadata": {},
          "output_type": "execute_result"
        }
      ]
    },
    {
      "cell_type": "code",
      "metadata": {
        "id": "61788360",
        "outputId": "2ce298da-fa26-41fd-cec4-5c467c442928"
      },
      "source": [
        "df_teams = df_teams.reset_index(drop=True)\n",
        "df_teams.loc[df_teams.Winner == df_teams.Team1,'winning_team']=1\n",
        "df_teams.loc[df_teams.Winner == df_teams.Team2, 'winning_team']=2\n",
        "df_teams = df_teams.drop(['winning_team'], axis=1)\n",
        "\n",
        "df_teams.head()\n"
      ],
      "id": "61788360",
      "execution_count": null,
      "outputs": [
        {
          "data": {
            "text/html": [
              "<div>\n",
              "<style scoped>\n",
              "    .dataframe tbody tr th:only-of-type {\n",
              "        vertical-align: middle;\n",
              "    }\n",
              "\n",
              "    .dataframe tbody tr th {\n",
              "        vertical-align: top;\n",
              "    }\n",
              "\n",
              "    .dataframe thead th {\n",
              "        text-align: right;\n",
              "    }\n",
              "</style>\n",
              "<table border=\"1\" class=\"dataframe\">\n",
              "  <thead>\n",
              "    <tr style=\"text-align: right;\">\n",
              "      <th></th>\n",
              "      <th>ID</th>\n",
              "      <th>Team1</th>\n",
              "      <th>Team2</th>\n",
              "      <th>Winner</th>\n",
              "    </tr>\n",
              "  </thead>\n",
              "  <tbody>\n",
              "    <tr>\n",
              "      <th>0</th>\n",
              "      <td>3</td>\n",
              "      <td>England</td>\n",
              "      <td>Sri Lanka</td>\n",
              "      <td>England</td>\n",
              "    </tr>\n",
              "    <tr>\n",
              "      <th>1</th>\n",
              "      <td>4</td>\n",
              "      <td>India</td>\n",
              "      <td>West Indies</td>\n",
              "      <td>West Indies</td>\n",
              "    </tr>\n",
              "    <tr>\n",
              "      <th>2</th>\n",
              "      <td>7</td>\n",
              "      <td>Sri Lanka</td>\n",
              "      <td>Australia</td>\n",
              "      <td>Australia</td>\n",
              "    </tr>\n",
              "    <tr>\n",
              "      <th>3</th>\n",
              "      <td>8</td>\n",
              "      <td>England</td>\n",
              "      <td>Pakistan</td>\n",
              "      <td>Pakistan</td>\n",
              "    </tr>\n",
              "    <tr>\n",
              "      <th>4</th>\n",
              "      <td>9</td>\n",
              "      <td>Sri Lanka</td>\n",
              "      <td>Australia</td>\n",
              "      <td>Australia</td>\n",
              "    </tr>\n",
              "  </tbody>\n",
              "</table>\n",
              "</div>"
            ],
            "text/plain": [
              "   ID      Team1        Team2       Winner\n",
              "0   3    England    Sri Lanka      England\n",
              "1   4      India  West Indies  West Indies\n",
              "2   7  Sri Lanka    Australia    Australia\n",
              "3   8    England     Pakistan     Pakistan\n",
              "4   9  Sri Lanka    Australia    Australia"
            ]
          },
          "execution_count": 468,
          "metadata": {},
          "output_type": "execute_result"
        }
      ]
    },
    {
      "cell_type": "code",
      "metadata": {
        "id": "441beaf7"
      },
      "source": [
        "\n",
        "final = pd.get_dummies(df_teams, prefix=['Team1', 'Team2'], columns=['Team1', 'Team2'])\n",
        "\n",
        "\n",
        "X = final.drop(['Winner'], axis=1)\n",
        "y = final[\"Winner\"]\n",
        "\n",
        "\n",
        "X_train, X_test, y_train, y_test = train_test_split(X, y, test_size=0.30, random_state=42)"
      ],
      "id": "441beaf7",
      "execution_count": null,
      "outputs": []
    },
    {
      "cell_type": "code",
      "metadata": {
        "id": "f17fb1d8",
        "outputId": "c4bb23f8-daef-450a-dade-65b9bba1ae5a"
      },
      "source": [
        "final.head()"
      ],
      "id": "f17fb1d8",
      "execution_count": null,
      "outputs": [
        {
          "data": {
            "text/html": [
              "<div>\n",
              "<style scoped>\n",
              "    .dataframe tbody tr th:only-of-type {\n",
              "        vertical-align: middle;\n",
              "    }\n",
              "\n",
              "    .dataframe tbody tr th {\n",
              "        vertical-align: top;\n",
              "    }\n",
              "\n",
              "    .dataframe thead th {\n",
              "        text-align: right;\n",
              "    }\n",
              "</style>\n",
              "<table border=\"1\" class=\"dataframe\">\n",
              "  <thead>\n",
              "    <tr style=\"text-align: right;\">\n",
              "      <th></th>\n",
              "      <th>ID</th>\n",
              "      <th>Winner</th>\n",
              "      <th>Team1_Afghanistan</th>\n",
              "      <th>Team1_Australia</th>\n",
              "      <th>Team1_Bangladesh</th>\n",
              "      <th>Team1_England</th>\n",
              "      <th>Team1_India</th>\n",
              "      <th>Team1_Ireland</th>\n",
              "      <th>Team1_Namibia</th>\n",
              "      <th>Team1_Netherlands</th>\n",
              "      <th>...</th>\n",
              "      <th>Team2_Namibia</th>\n",
              "      <th>Team2_Netherlands</th>\n",
              "      <th>Team2_New Zealand</th>\n",
              "      <th>Team2_Oman</th>\n",
              "      <th>Team2_Pakistan</th>\n",
              "      <th>Team2_Papua New Guinea</th>\n",
              "      <th>Team2_Scotland</th>\n",
              "      <th>Team2_South Africa</th>\n",
              "      <th>Team2_Sri Lanka</th>\n",
              "      <th>Team2_West Indies</th>\n",
              "    </tr>\n",
              "  </thead>\n",
              "  <tbody>\n",
              "    <tr>\n",
              "      <th>0</th>\n",
              "      <td>3</td>\n",
              "      <td>England</td>\n",
              "      <td>0</td>\n",
              "      <td>0</td>\n",
              "      <td>0</td>\n",
              "      <td>1</td>\n",
              "      <td>0</td>\n",
              "      <td>0</td>\n",
              "      <td>0</td>\n",
              "      <td>0</td>\n",
              "      <td>...</td>\n",
              "      <td>0</td>\n",
              "      <td>0</td>\n",
              "      <td>0</td>\n",
              "      <td>0</td>\n",
              "      <td>0</td>\n",
              "      <td>0</td>\n",
              "      <td>0</td>\n",
              "      <td>0</td>\n",
              "      <td>1</td>\n",
              "      <td>0</td>\n",
              "    </tr>\n",
              "    <tr>\n",
              "      <th>1</th>\n",
              "      <td>4</td>\n",
              "      <td>West Indies</td>\n",
              "      <td>0</td>\n",
              "      <td>0</td>\n",
              "      <td>0</td>\n",
              "      <td>0</td>\n",
              "      <td>1</td>\n",
              "      <td>0</td>\n",
              "      <td>0</td>\n",
              "      <td>0</td>\n",
              "      <td>...</td>\n",
              "      <td>0</td>\n",
              "      <td>0</td>\n",
              "      <td>0</td>\n",
              "      <td>0</td>\n",
              "      <td>0</td>\n",
              "      <td>0</td>\n",
              "      <td>0</td>\n",
              "      <td>0</td>\n",
              "      <td>0</td>\n",
              "      <td>1</td>\n",
              "    </tr>\n",
              "    <tr>\n",
              "      <th>2</th>\n",
              "      <td>7</td>\n",
              "      <td>Australia</td>\n",
              "      <td>0</td>\n",
              "      <td>0</td>\n",
              "      <td>0</td>\n",
              "      <td>0</td>\n",
              "      <td>0</td>\n",
              "      <td>0</td>\n",
              "      <td>0</td>\n",
              "      <td>0</td>\n",
              "      <td>...</td>\n",
              "      <td>0</td>\n",
              "      <td>0</td>\n",
              "      <td>0</td>\n",
              "      <td>0</td>\n",
              "      <td>0</td>\n",
              "      <td>0</td>\n",
              "      <td>0</td>\n",
              "      <td>0</td>\n",
              "      <td>0</td>\n",
              "      <td>0</td>\n",
              "    </tr>\n",
              "    <tr>\n",
              "      <th>3</th>\n",
              "      <td>8</td>\n",
              "      <td>Pakistan</td>\n",
              "      <td>0</td>\n",
              "      <td>0</td>\n",
              "      <td>0</td>\n",
              "      <td>1</td>\n",
              "      <td>0</td>\n",
              "      <td>0</td>\n",
              "      <td>0</td>\n",
              "      <td>0</td>\n",
              "      <td>...</td>\n",
              "      <td>0</td>\n",
              "      <td>0</td>\n",
              "      <td>0</td>\n",
              "      <td>0</td>\n",
              "      <td>1</td>\n",
              "      <td>0</td>\n",
              "      <td>0</td>\n",
              "      <td>0</td>\n",
              "      <td>0</td>\n",
              "      <td>0</td>\n",
              "    </tr>\n",
              "    <tr>\n",
              "      <th>4</th>\n",
              "      <td>9</td>\n",
              "      <td>Australia</td>\n",
              "      <td>0</td>\n",
              "      <td>0</td>\n",
              "      <td>0</td>\n",
              "      <td>0</td>\n",
              "      <td>0</td>\n",
              "      <td>0</td>\n",
              "      <td>0</td>\n",
              "      <td>0</td>\n",
              "      <td>...</td>\n",
              "      <td>0</td>\n",
              "      <td>0</td>\n",
              "      <td>0</td>\n",
              "      <td>0</td>\n",
              "      <td>0</td>\n",
              "      <td>0</td>\n",
              "      <td>0</td>\n",
              "      <td>0</td>\n",
              "      <td>0</td>\n",
              "      <td>0</td>\n",
              "    </tr>\n",
              "  </tbody>\n",
              "</table>\n",
              "<p>5 rows × 34 columns</p>\n",
              "</div>"
            ],
            "text/plain": [
              "   ID       Winner  Team1_Afghanistan  Team1_Australia  Team1_Bangladesh  \\\n",
              "0   3      England                  0                0                 0   \n",
              "1   4  West Indies                  0                0                 0   \n",
              "2   7    Australia                  0                0                 0   \n",
              "3   8     Pakistan                  0                0                 0   \n",
              "4   9    Australia                  0                0                 0   \n",
              "\n",
              "   Team1_England  Team1_India  Team1_Ireland  Team1_Namibia  \\\n",
              "0              1            0              0              0   \n",
              "1              0            1              0              0   \n",
              "2              0            0              0              0   \n",
              "3              1            0              0              0   \n",
              "4              0            0              0              0   \n",
              "\n",
              "   Team1_Netherlands  ...  Team2_Namibia  Team2_Netherlands  \\\n",
              "0                  0  ...              0                  0   \n",
              "1                  0  ...              0                  0   \n",
              "2                  0  ...              0                  0   \n",
              "3                  0  ...              0                  0   \n",
              "4                  0  ...              0                  0   \n",
              "\n",
              "   Team2_New Zealand  Team2_Oman  Team2_Pakistan  Team2_Papua New Guinea  \\\n",
              "0                  0           0               0                       0   \n",
              "1                  0           0               0                       0   \n",
              "2                  0           0               0                       0   \n",
              "3                  0           0               1                       0   \n",
              "4                  0           0               0                       0   \n",
              "\n",
              "   Team2_Scotland  Team2_South Africa  Team2_Sri Lanka  Team2_West Indies  \n",
              "0               0                   0                1                  0  \n",
              "1               0                   0                0                  1  \n",
              "2               0                   0                0                  0  \n",
              "3               0                   0                0                  0  \n",
              "4               0                   0                0                  0  \n",
              "\n",
              "[5 rows x 34 columns]"
            ]
          },
          "execution_count": 470,
          "metadata": {},
          "output_type": "execute_result"
        }
      ]
    },
    {
      "cell_type": "code",
      "metadata": {
        "id": "2645f121",
        "outputId": "5b228114-be3b-42e5-893a-543e8eb28d58"
      },
      "source": [
        "logreg = LogisticRegression()\n",
        "logreg.fit(X_train, y_train)\n",
        "score = logreg.score(X_train, y_train)\n",
        "score2 = logreg.score(X_test, y_test)\n",
        "\n",
        "print(\"Training set accuracy: \", '%.3f'%(score))\n",
        "print(\"Test set accuracy: \", '%.3f'%(score2))"
      ],
      "id": "2645f121",
      "execution_count": null,
      "outputs": [
        {
          "name": "stdout",
          "output_type": "stream",
          "text": [
            "Training set accuracy:  0.742\n",
            "Test set accuracy:  0.717\n"
          ]
        },
        {
          "name": "stderr",
          "output_type": "stream",
          "text": [
            "c:\\users\\msdan\\appdata\\local\\programs\\python\\python39\\lib\\site-packages\\sklearn\\linear_model\\_logistic.py:763: ConvergenceWarning: lbfgs failed to converge (status=1):\n",
            "STOP: TOTAL NO. of ITERATIONS REACHED LIMIT.\n",
            "\n",
            "Increase the number of iterations (max_iter) or scale the data as shown in:\n",
            "    https://scikit-learn.org/stable/modules/preprocessing.html\n",
            "Please also refer to the documentation for alternative solver options:\n",
            "    https://scikit-learn.org/stable/modules/linear_model.html#logistic-regression\n",
            "  n_iter_i = _check_optimize_result(\n"
          ]
        }
      ]
    },
    {
      "cell_type": "code",
      "metadata": {
        "id": "1c418de3",
        "outputId": "7d519518-c7d1-4e97-cc6e-8802520550dc"
      },
      "source": [
        "rf = RandomForestClassifier(n_estimators=100, max_depth=20,                               random_state=0) \n",
        "rf.fit(X_train, y_train)\n",
        "score = rf.score(X_train, y_train)\n",
        "score2 = rf.score(X_test, y_test)\n",
        "print(\"Training set accuracy: \", '%.3f'%(score)) \n",
        "print(\"Test set accuracy: \", '%.3f'%(score2))"
      ],
      "id": "1c418de3",
      "execution_count": null,
      "outputs": [
        {
          "name": "stdout",
          "output_type": "stream",
          "text": [
            "Training set accuracy:  0.998\n",
            "Test set accuracy:  0.981\n"
          ]
        }
      ]
    },
    {
      "cell_type": "code",
      "metadata": {
        "id": "d515a2f8"
      },
      "source": [
        "\n",
        "\n",
        "# Loading new datasets\n",
        "ranking = pd.read_csv(r'C:\\Users\\msdan\\Desktop\\final project\\Standings.csv') \n",
        "fixtures = pd.read_csv(r'C:\\Users\\msdan\\Desktop\\final project\\Fixtures.csv')\n",
        "\n",
        "# List for storing the group stage games\n",
        "pred_set = []"
      ],
      "id": "d515a2f8",
      "execution_count": null,
      "outputs": []
    },
    {
      "cell_type": "code",
      "metadata": {
        "id": "943a3c85",
        "outputId": "09c1dc9b-afe4-448e-9fe2-b9ff0660f93a"
      },
      "source": [
        "# Create new columns with ranking position of each team\n",
        "fixtures.insert(1, 'first_position', fixtures['Team1'].map(ranking.set_index('Team')['Position']))\n",
        "fixtures.insert(2, 'second_position', fixtures['Team2'].map(ranking.set_index('Team')['Position']))\n",
        "\n",
        "# We only need the group stage games, so we have to slice the dataset\n",
        "fixtures = fixtures.iloc[:12, :]\n",
        "fixtures.tail()\n"
      ],
      "id": "943a3c85",
      "execution_count": null,
      "outputs": [
        {
          "data": {
            "text/html": [
              "<div>\n",
              "<style scoped>\n",
              "    .dataframe tbody tr th:only-of-type {\n",
              "        vertical-align: middle;\n",
              "    }\n",
              "\n",
              "    .dataframe tbody tr th {\n",
              "        vertical-align: top;\n",
              "    }\n",
              "\n",
              "    .dataframe thead th {\n",
              "        text-align: right;\n",
              "    }\n",
              "</style>\n",
              "<table border=\"1\" class=\"dataframe\">\n",
              "  <thead>\n",
              "    <tr style=\"text-align: right;\">\n",
              "      <th></th>\n",
              "      <th>No</th>\n",
              "      <th>first_position</th>\n",
              "      <th>second_position</th>\n",
              "      <th>Date</th>\n",
              "      <th>Team1</th>\n",
              "      <th>Team2</th>\n",
              "      <th>Venue</th>\n",
              "      <th>Round</th>\n",
              "      <th>Group</th>\n",
              "    </tr>\n",
              "  </thead>\n",
              "  <tbody>\n",
              "    <tr>\n",
              "      <th>7</th>\n",
              "      <td>8</td>\n",
              "      <td>8.0</td>\n",
              "      <td>13.0</td>\n",
              "      <td>20/10/2021</td>\n",
              "      <td>Sri Lanka</td>\n",
              "      <td>Ireland</td>\n",
              "      <td>Abu Dhabi</td>\n",
              "      <td>First Round</td>\n",
              "      <td>Group A</td>\n",
              "    </tr>\n",
              "    <tr>\n",
              "      <th>8</th>\n",
              "      <td>9</td>\n",
              "      <td>10.0</td>\n",
              "      <td>16.0</td>\n",
              "      <td>21/10/2021</td>\n",
              "      <td>Bangladesh</td>\n",
              "      <td>Papua New Guinea</td>\n",
              "      <td>Abu Dhabi</td>\n",
              "      <td>First Round</td>\n",
              "      <td>Group B</td>\n",
              "    </tr>\n",
              "    <tr>\n",
              "      <th>9</th>\n",
              "      <td>10</td>\n",
              "      <td>18.0</td>\n",
              "      <td>14.0</td>\n",
              "      <td>21/10/2021</td>\n",
              "      <td>Oman</td>\n",
              "      <td>Scotland</td>\n",
              "      <td>Abu Dhabi</td>\n",
              "      <td>First Round</td>\n",
              "      <td>Group B</td>\n",
              "    </tr>\n",
              "    <tr>\n",
              "      <th>10</th>\n",
              "      <td>11</td>\n",
              "      <td>19.0</td>\n",
              "      <td>13.0</td>\n",
              "      <td>22/10/2021</td>\n",
              "      <td>Namibia</td>\n",
              "      <td>Ireland</td>\n",
              "      <td>Sharjah</td>\n",
              "      <td>First Round</td>\n",
              "      <td>Group A</td>\n",
              "    </tr>\n",
              "    <tr>\n",
              "      <th>11</th>\n",
              "      <td>12</td>\n",
              "      <td>8.0</td>\n",
              "      <td>17.0</td>\n",
              "      <td>22/10/2021</td>\n",
              "      <td>Sri Lanka</td>\n",
              "      <td>Netherlands</td>\n",
              "      <td>Sharjah</td>\n",
              "      <td>First Round</td>\n",
              "      <td>Group A</td>\n",
              "    </tr>\n",
              "  </tbody>\n",
              "</table>\n",
              "</div>"
            ],
            "text/plain": [
              "    No  first_position  second_position        Date       Team1  \\\n",
              "7    8             8.0             13.0  20/10/2021   Sri Lanka   \n",
              "8    9            10.0             16.0  21/10/2021  Bangladesh   \n",
              "9   10            18.0             14.0  21/10/2021        Oman   \n",
              "10  11            19.0             13.0  22/10/2021     Namibia   \n",
              "11  12             8.0             17.0  22/10/2021   Sri Lanka   \n",
              "\n",
              "               Team2      Venue        Round    Group  \n",
              "7            Ireland  Abu Dhabi  First Round  Group A  \n",
              "8   Papua New Guinea  Abu Dhabi  First Round  Group B  \n",
              "9           Scotland  Abu Dhabi  First Round  Group B  \n",
              "10           Ireland    Sharjah  First Round  Group A  \n",
              "11       Netherlands    Sharjah  First Round  Group A  "
            ]
          },
          "execution_count": 473,
          "metadata": {},
          "output_type": "execute_result"
        }
      ]
    },
    {
      "cell_type": "code",
      "metadata": {
        "id": "1ea39930",
        "outputId": "2b79888c-64b0-4a53-899d-d1dd5a0493f5"
      },
      "source": [
        "for index, row in fixtures.iterrows():\n",
        "    if row['first_position'] < row['second_position']:\n",
        "        pred_set.append({'Team1': row['Team1'], 'Team2': row['Team2'], 'winning_team': None})\n",
        "    else:\n",
        "        pred_set.append({'Team1': row['Team2'], 'Team2': row['Team1'], 'winning_team': None})\n",
        "        \n",
        "pred_set = pd.DataFrame(pred_set)\n",
        "backup_pred_set = pred_set\n",
        "pred_set.head()"
      ],
      "id": "1ea39930",
      "execution_count": null,
      "outputs": [
        {
          "data": {
            "text/html": [
              "<div>\n",
              "<style scoped>\n",
              "    .dataframe tbody tr th:only-of-type {\n",
              "        vertical-align: middle;\n",
              "    }\n",
              "\n",
              "    .dataframe tbody tr th {\n",
              "        vertical-align: top;\n",
              "    }\n",
              "\n",
              "    .dataframe thead th {\n",
              "        text-align: right;\n",
              "    }\n",
              "</style>\n",
              "<table border=\"1\" class=\"dataframe\">\n",
              "  <thead>\n",
              "    <tr style=\"text-align: right;\">\n",
              "      <th></th>\n",
              "      <th>Team1</th>\n",
              "      <th>Team2</th>\n",
              "      <th>winning_team</th>\n",
              "    </tr>\n",
              "  </thead>\n",
              "  <tbody>\n",
              "    <tr>\n",
              "      <th>0</th>\n",
              "      <td>Papua New Guinea</td>\n",
              "      <td>Oman</td>\n",
              "      <td>None</td>\n",
              "    </tr>\n",
              "    <tr>\n",
              "      <th>1</th>\n",
              "      <td>Bangladesh</td>\n",
              "      <td>Scotland</td>\n",
              "      <td>None</td>\n",
              "    </tr>\n",
              "    <tr>\n",
              "      <th>2</th>\n",
              "      <td>Netherlands</td>\n",
              "      <td>Ireland</td>\n",
              "      <td>None</td>\n",
              "    </tr>\n",
              "    <tr>\n",
              "      <th>3</th>\n",
              "      <td>Sri Lanka</td>\n",
              "      <td>Namibia</td>\n",
              "      <td>None</td>\n",
              "    </tr>\n",
              "    <tr>\n",
              "      <th>4</th>\n",
              "      <td>Papua New Guinea</td>\n",
              "      <td>Scotland</td>\n",
              "      <td>None</td>\n",
              "    </tr>\n",
              "  </tbody>\n",
              "</table>\n",
              "</div>"
            ],
            "text/plain": [
              "              Team1      Team2 winning_team\n",
              "0  Papua New Guinea       Oman         None\n",
              "1        Bangladesh   Scotland         None\n",
              "2       Netherlands   Ireland          None\n",
              "3         Sri Lanka    Namibia         None\n",
              "4  Papua New Guinea  Scotland          None"
            ]
          },
          "execution_count": 474,
          "metadata": {},
          "output_type": "execute_result"
        }
      ]
    },
    {
      "cell_type": "code",
      "metadata": {
        "id": "8d638029",
        "outputId": "9f42017f-91dc-433f-cdc6-7df9cb81ac75"
      },
      "source": [
        "\n",
        "# Get dummy variables and drop winning_team column\n",
        "pred_set = pd.get_dummies(pred_set, prefix=['Team1', 'Team2'], columns=['Team1', 'Team2'])\n",
        "\n",
        "# Add missing columns compared to the model's training dataset\n",
        "missing_cols = set(final.columns) - set(pred_set.columns)\n",
        "for c in missing_cols:\n",
        "    pred_set[c] = 0\n",
        "pred_set = pred_set[final.columns]\n",
        "\n",
        "\n",
        "pred_set1 = pred_set.drop(['Winner'], axis=1)\n",
        "pred_set1.head()"
      ],
      "id": "8d638029",
      "execution_count": null,
      "outputs": [
        {
          "data": {
            "text/html": [
              "<div>\n",
              "<style scoped>\n",
              "    .dataframe tbody tr th:only-of-type {\n",
              "        vertical-align: middle;\n",
              "    }\n",
              "\n",
              "    .dataframe tbody tr th {\n",
              "        vertical-align: top;\n",
              "    }\n",
              "\n",
              "    .dataframe thead th {\n",
              "        text-align: right;\n",
              "    }\n",
              "</style>\n",
              "<table border=\"1\" class=\"dataframe\">\n",
              "  <thead>\n",
              "    <tr style=\"text-align: right;\">\n",
              "      <th></th>\n",
              "      <th>ID</th>\n",
              "      <th>Team1_Afghanistan</th>\n",
              "      <th>Team1_Australia</th>\n",
              "      <th>Team1_Bangladesh</th>\n",
              "      <th>Team1_England</th>\n",
              "      <th>Team1_India</th>\n",
              "      <th>Team1_Ireland</th>\n",
              "      <th>Team1_Namibia</th>\n",
              "      <th>Team1_Netherlands</th>\n",
              "      <th>Team1_New Zealand</th>\n",
              "      <th>...</th>\n",
              "      <th>Team2_Namibia</th>\n",
              "      <th>Team2_Netherlands</th>\n",
              "      <th>Team2_New Zealand</th>\n",
              "      <th>Team2_Oman</th>\n",
              "      <th>Team2_Pakistan</th>\n",
              "      <th>Team2_Papua New Guinea</th>\n",
              "      <th>Team2_Scotland</th>\n",
              "      <th>Team2_South Africa</th>\n",
              "      <th>Team2_Sri Lanka</th>\n",
              "      <th>Team2_West Indies</th>\n",
              "    </tr>\n",
              "  </thead>\n",
              "  <tbody>\n",
              "    <tr>\n",
              "      <th>0</th>\n",
              "      <td>0</td>\n",
              "      <td>0</td>\n",
              "      <td>0</td>\n",
              "      <td>0</td>\n",
              "      <td>0</td>\n",
              "      <td>0</td>\n",
              "      <td>0</td>\n",
              "      <td>0</td>\n",
              "      <td>0</td>\n",
              "      <td>0</td>\n",
              "      <td>...</td>\n",
              "      <td>0</td>\n",
              "      <td>0</td>\n",
              "      <td>0</td>\n",
              "      <td>1</td>\n",
              "      <td>0</td>\n",
              "      <td>0</td>\n",
              "      <td>0</td>\n",
              "      <td>0</td>\n",
              "      <td>0</td>\n",
              "      <td>0</td>\n",
              "    </tr>\n",
              "    <tr>\n",
              "      <th>1</th>\n",
              "      <td>0</td>\n",
              "      <td>0</td>\n",
              "      <td>0</td>\n",
              "      <td>1</td>\n",
              "      <td>0</td>\n",
              "      <td>0</td>\n",
              "      <td>0</td>\n",
              "      <td>0</td>\n",
              "      <td>0</td>\n",
              "      <td>0</td>\n",
              "      <td>...</td>\n",
              "      <td>0</td>\n",
              "      <td>0</td>\n",
              "      <td>0</td>\n",
              "      <td>0</td>\n",
              "      <td>0</td>\n",
              "      <td>0</td>\n",
              "      <td>1</td>\n",
              "      <td>0</td>\n",
              "      <td>0</td>\n",
              "      <td>0</td>\n",
              "    </tr>\n",
              "    <tr>\n",
              "      <th>2</th>\n",
              "      <td>0</td>\n",
              "      <td>0</td>\n",
              "      <td>0</td>\n",
              "      <td>0</td>\n",
              "      <td>0</td>\n",
              "      <td>0</td>\n",
              "      <td>0</td>\n",
              "      <td>0</td>\n",
              "      <td>1</td>\n",
              "      <td>0</td>\n",
              "      <td>...</td>\n",
              "      <td>0</td>\n",
              "      <td>0</td>\n",
              "      <td>0</td>\n",
              "      <td>0</td>\n",
              "      <td>0</td>\n",
              "      <td>0</td>\n",
              "      <td>0</td>\n",
              "      <td>0</td>\n",
              "      <td>0</td>\n",
              "      <td>0</td>\n",
              "    </tr>\n",
              "    <tr>\n",
              "      <th>3</th>\n",
              "      <td>0</td>\n",
              "      <td>0</td>\n",
              "      <td>0</td>\n",
              "      <td>0</td>\n",
              "      <td>0</td>\n",
              "      <td>0</td>\n",
              "      <td>0</td>\n",
              "      <td>0</td>\n",
              "      <td>0</td>\n",
              "      <td>0</td>\n",
              "      <td>...</td>\n",
              "      <td>1</td>\n",
              "      <td>0</td>\n",
              "      <td>0</td>\n",
              "      <td>0</td>\n",
              "      <td>0</td>\n",
              "      <td>0</td>\n",
              "      <td>0</td>\n",
              "      <td>0</td>\n",
              "      <td>0</td>\n",
              "      <td>0</td>\n",
              "    </tr>\n",
              "    <tr>\n",
              "      <th>4</th>\n",
              "      <td>0</td>\n",
              "      <td>0</td>\n",
              "      <td>0</td>\n",
              "      <td>0</td>\n",
              "      <td>0</td>\n",
              "      <td>0</td>\n",
              "      <td>0</td>\n",
              "      <td>0</td>\n",
              "      <td>0</td>\n",
              "      <td>0</td>\n",
              "      <td>...</td>\n",
              "      <td>0</td>\n",
              "      <td>0</td>\n",
              "      <td>0</td>\n",
              "      <td>0</td>\n",
              "      <td>0</td>\n",
              "      <td>0</td>\n",
              "      <td>0</td>\n",
              "      <td>0</td>\n",
              "      <td>0</td>\n",
              "      <td>0</td>\n",
              "    </tr>\n",
              "  </tbody>\n",
              "</table>\n",
              "<p>5 rows × 33 columns</p>\n",
              "</div>"
            ],
            "text/plain": [
              "   ID  Team1_Afghanistan  Team1_Australia  Team1_Bangladesh  Team1_England  \\\n",
              "0   0                  0                0                 0              0   \n",
              "1   0                  0                0                 1              0   \n",
              "2   0                  0                0                 0              0   \n",
              "3   0                  0                0                 0              0   \n",
              "4   0                  0                0                 0              0   \n",
              "\n",
              "   Team1_India  Team1_Ireland  Team1_Namibia  Team1_Netherlands  \\\n",
              "0            0              0              0                  0   \n",
              "1            0              0              0                  0   \n",
              "2            0              0              0                  1   \n",
              "3            0              0              0                  0   \n",
              "4            0              0              0                  0   \n",
              "\n",
              "   Team1_New Zealand  ...  Team2_Namibia  Team2_Netherlands  \\\n",
              "0                  0  ...              0                  0   \n",
              "1                  0  ...              0                  0   \n",
              "2                  0  ...              0                  0   \n",
              "3                  0  ...              1                  0   \n",
              "4                  0  ...              0                  0   \n",
              "\n",
              "   Team2_New Zealand  Team2_Oman  Team2_Pakistan  Team2_Papua New Guinea  \\\n",
              "0                  0           1               0                       0   \n",
              "1                  0           0               0                       0   \n",
              "2                  0           0               0                       0   \n",
              "3                  0           0               0                       0   \n",
              "4                  0           0               0                       0   \n",
              "\n",
              "   Team2_Scotland  Team2_South Africa  Team2_Sri Lanka  Team2_West Indies  \n",
              "0               0                   0                0                  0  \n",
              "1               1                   0                0                  0  \n",
              "2               0                   0                0                  0  \n",
              "3               0                   0                0                  0  \n",
              "4               0                   0                0                  0  \n",
              "\n",
              "[5 rows x 33 columns]"
            ]
          },
          "execution_count": 475,
          "metadata": {},
          "output_type": "execute_result"
        }
      ]
    },
    {
      "cell_type": "code",
      "metadata": {
        "id": "8f25d877",
        "outputId": "e3fb40fc-aaea-4a9f-cfd0-6a22fd2d31b6"
      },
      "source": [
        "predictions = logreg.predict(pred_set1)\n",
        "for i in range(fixtures.shape[0]):\n",
        "    print(backup_pred_set.iloc[i, 1] + \" and \" + backup_pred_set.iloc[i, 0])\n",
        "    if predictions[i] == 1:\n",
        "        print(\"Winner: \" + backup_pred_set.iloc[i, 1])\n",
        "    \n",
        "    else:\n",
        "        print(\"Winner: \" + backup_pred_set.iloc[i, 0])\n",
        "    print(\"\")"
      ],
      "id": "8f25d877",
      "execution_count": null,
      "outputs": [
        {
          "name": "stdout",
          "output_type": "stream",
          "text": [
            "Oman and Papua New Guinea\n",
            "Winner: Papua New Guinea\n",
            "\n",
            "Scotland and Bangladesh\n",
            "Winner: Bangladesh\n",
            "\n",
            "Ireland  and Netherlands\n",
            "Winner: Netherlands\n",
            "\n",
            "Namibia and Sri Lanka\n",
            "Winner: Sri Lanka\n",
            "\n",
            "Scotland  and Papua New Guinea\n",
            "Winner: Papua New Guinea\n",
            "\n",
            "Oman and Bangladesh\n",
            "Winner: Bangladesh\n",
            "\n",
            "Namibia and Netherlands\n",
            "Winner: Netherlands\n",
            "\n",
            "Ireland and Sri Lanka\n",
            "Winner: Sri Lanka\n",
            "\n",
            "Papua New Guinea and Bangladesh\n",
            "Winner: Bangladesh\n",
            "\n",
            "Oman and Scotland\n",
            "Winner: Scotland\n",
            "\n",
            "Namibia and Ireland\n",
            "Winner: Ireland\n",
            "\n",
            "Netherlands and Sri Lanka\n",
            "Winner: Sri Lanka\n",
            "\n"
          ]
        }
      ]
    },
    {
      "cell_type": "code",
      "metadata": {
        "id": "808db61e",
        "outputId": "9454eedd-11de-4ab6-bb36-9978ce93b3a5"
      },
      "source": [
        "rf = RandomForestClassifier(n_estimators=100, max_depth=20,\n",
        "                              random_state=0)\n",
        "rf.fit(X_train, y_train)\n",
        "\n",
        "predictions = logreg.predict(pred_set1)\n",
        "print(predictions)"
      ],
      "id": "808db61e",
      "execution_count": null,
      "outputs": [
        {
          "name": "stdout",
          "output_type": "stream",
          "text": [
            "['Australia' 'Scotland' 'Netherlands' 'Sri Lanka' 'Australia' 'Bangladesh'\n",
            " 'Netherlands' 'Sri Lanka' 'Bangladesh' 'Pakistan' 'Ireland' 'Sri Lanka']\n"
          ]
        }
      ]
    },
    {
      "cell_type": "code",
      "metadata": {
        "id": "5e158bb7",
        "outputId": "bfe798e0-f2d6-430e-d369-a4ddb87a6564"
      },
      "source": [
        "from xgboost import XGBClassifier\n",
        "model = XGBClassifier()\n",
        "model.fit(X_train, y_train)\n",
        "predictions = model.predict(pred_set1)\n",
        "print(predictions)"
      ],
      "id": "5e158bb7",
      "execution_count": null,
      "outputs": [
        {
          "name": "stdout",
          "output_type": "stream",
          "text": [
            "[16:04:02] WARNING: C:/Users/Administrator/workspace/xgboost-win64_release_1.4.0/src/learner.cc:1095: Starting in XGBoost 1.3.0, the default evaluation metric used with the objective 'multi:softprob' was changed from 'merror' to 'mlogloss'. Explicitly set eval_metric if you'd like to restore the old behavior.\n"
          ]
        },
        {
          "name": "stderr",
          "output_type": "stream",
          "text": [
            "c:\\users\\msdan\\appdata\\local\\programs\\python\\python39\\lib\\site-packages\\xgboost\\sklearn.py:1146: UserWarning: The use of label encoder in XGBClassifier is deprecated and will be removed in a future release. To remove this warning, do the following: 1) Pass option use_label_encoder=False when constructing XGBClassifier object; and 2) Encode your labels (y) as integers starting with 0, i.e. 0, 1, 2, ..., [num_class - 1].\n",
            "  warnings.warn(label_encoder_deprecation_msg, UserWarning)\n"
          ]
        },
        {
          "name": "stdout",
          "output_type": "stream",
          "text": [
            "['West Indies' 'Scotland' 'Netherlands' 'Sri Lanka' 'West Indies'\n",
            " 'Bangladesh' 'Netherlands' 'Sri Lanka' 'Papua New Guinea' 'West Indies'\n",
            " 'Ireland' 'Netherlands']\n"
          ]
        }
      ]
    },
    {
      "cell_type": "code",
      "metadata": {
        "id": "4bf89ae1",
        "outputId": "61107dff-e22f-447f-e232-f3d22dc52a45"
      },
      "source": [
        "ban=np.count_nonzero(predictions == 'Bangladesh')\n",
        "sl=np.count_nonzero(predictions == 'Sri Lanka')\n",
        "irel=np.count_nonzero(predictions == 'Ireland')\n",
        "ned=np.count_nonzero(predictions == 'Netherlands')\n",
        "png=np.count_nonzero(predictions == 'Papua New Guinea')\n",
        "nam=np.count_nonzero(predictions == 'Namibia')\n",
        "omn=np.count_nonzero(predictions == 'Oman')\n",
        "sco=np.count_nonzero(predictions == 'Scotland')\n",
        "fin=[ban,sl,irel,ned,png,nam,omn,sco]\n",
        "name=[\"ban\",\"sl\",\"irel\",\"ned\",\"png\",\"nam\",\"omn\",\"sco\"]\n",
        "print(fin)"
      ],
      "id": "4bf89ae1",
      "execution_count": null,
      "outputs": [
        {
          "name": "stdout",
          "output_type": "stream",
          "text": [
            "[1, 2, 1, 3, 1, 0, 0, 1]\n"
          ]
        }
      ]
    },
    {
      "cell_type": "code",
      "metadata": {
        "id": "2971c808"
      },
      "source": [
        "for i in range(len(fin)): \n",
        "      \n",
        "    # Find the minimum element in remaining  \n",
        "    # unsorted array \n",
        "    min_idx = i \n",
        "    for j in range(i+1, len(fin)): \n",
        "        if fin[min_idx] < fin[j]: \n",
        "            min_idx = j \n",
        "              \n",
        "    # Swap the found minimum element with  \n",
        "    # the first element    \n",
        "    name[i],name[min_idx]=name[min_idx],name[i]\n",
        "    fin[i], fin[min_idx] = fin[min_idx], fin[i]"
      ],
      "id": "2971c808",
      "execution_count": null,
      "outputs": []
    },
    {
      "cell_type": "code",
      "metadata": {
        "id": "e260f71c",
        "outputId": "9de2f8dd-c9de-4e81-d117-23e4b1d49c0e"
      },
      "source": [
        "print(\"RANK        TEAM        POINTS\")\n",
        "for x in range(len(name)):\n",
        "    print(x+1,end=\"        \")\n",
        "    print(name[x], end=\"        \")\n",
        "  \n",
        "    print(fin[x]*2,end=\"         \")\n",
        "    print(\"\\n\")"
      ],
      "id": "e260f71c",
      "execution_count": null,
      "outputs": [
        {
          "name": "stdout",
          "output_type": "stream",
          "text": [
            "RANK        TEAM        POINTS\n",
            "1        ned        6         \n",
            "\n",
            "2        sl        4         \n",
            "\n",
            "3        irel        2         \n",
            "\n",
            "4        ban        2         \n",
            "\n",
            "5        png        2         \n",
            "\n",
            "6        sco        2         \n",
            "\n",
            "7        omn        0         \n",
            "\n",
            "8        nam        0         \n",
            "\n"
          ]
        }
      ]
    },
    {
      "cell_type": "markdown",
      "metadata": {
        "id": "4f522735"
      },
      "source": [
        "# Hence the Qualifying teams to super12 stage are Ned,Sco,Sl,Ban"
      ],
      "id": "4f522735"
    },
    {
      "cell_type": "code",
      "metadata": {
        "id": "40f55266",
        "colab": {
          "base_uri": "https://localhost:8080/",
          "height": 182
        },
        "outputId": "6fa76440-d83e-4452-9750-ac135563225a"
      },
      "source": [
        "fixtures = pd.read_csv(r'C:\\Users\\msdan\\Desktop\\final project\\Fixtures.csv')\n",
        "fixtures = fixtures.iloc[12:, :41]\n"
      ],
      "id": "40f55266",
      "execution_count": 1,
      "outputs": [
        {
          "output_type": "error",
          "ename": "NameError",
          "evalue": "ignored",
          "traceback": [
            "\u001b[0;31m---------------------------------------------------------------------------\u001b[0m",
            "\u001b[0;31mNameError\u001b[0m                                 Traceback (most recent call last)",
            "\u001b[0;32m<ipython-input-1-611230acb5f7>\u001b[0m in \u001b[0;36m<module>\u001b[0;34m\u001b[0m\n\u001b[0;32m----> 1\u001b[0;31m \u001b[0mfixtures\u001b[0m \u001b[0;34m=\u001b[0m \u001b[0mpd\u001b[0m\u001b[0;34m.\u001b[0m\u001b[0mread_csv\u001b[0m\u001b[0;34m(\u001b[0m\u001b[0;34mr'C:\\Users\\msdan\\Desktop\\final project\\Fixtures.csv'\u001b[0m\u001b[0;34m)\u001b[0m\u001b[0;34m\u001b[0m\u001b[0;34m\u001b[0m\u001b[0m\n\u001b[0m\u001b[1;32m      2\u001b[0m \u001b[0mfixtures\u001b[0m \u001b[0;34m=\u001b[0m \u001b[0mfixtures\u001b[0m\u001b[0;34m.\u001b[0m\u001b[0miloc\u001b[0m\u001b[0;34m[\u001b[0m\u001b[0;36m12\u001b[0m\u001b[0;34m:\u001b[0m\u001b[0;34m,\u001b[0m \u001b[0;34m:\u001b[0m\u001b[0;36m41\u001b[0m\u001b[0;34m]\u001b[0m\u001b[0;34m\u001b[0m\u001b[0;34m\u001b[0m\u001b[0m\n",
            "\u001b[0;31mNameError\u001b[0m: name 'pd' is not defined"
          ]
        }
      ]
    },
    {
      "cell_type": "code",
      "metadata": {
        "id": "2012fb04"
      },
      "source": [
        "fixtures.replace(to_replace =\"A1\", \n",
        "                 value = \"Netherlands\", \n",
        "                  inplace = True)\n",
        "fixtures.replace(to_replace =\"A2\", \n",
        "                 value = \"Sri Lanka\", \n",
        "                  inplace = True)\n",
        "fixtures.replace(to_replace =\"B1\", \n",
        "                 value = \"Bangladesh\", \n",
        "                  inplace = True)\n",
        "fixtures.replace(to_replace =\"B2\", \n",
        "                 value = \"Scotland\", \n",
        "                  inplace = True)"
      ],
      "id": "2012fb04",
      "execution_count": null,
      "outputs": []
    },
    {
      "cell_type": "code",
      "metadata": {
        "id": "3d052bf3"
      },
      "source": [
        "fixtures.tail()"
      ],
      "id": "3d052bf3",
      "execution_count": null,
      "outputs": []
    },
    {
      "cell_type": "code",
      "metadata": {
        "id": "bd6380f3"
      },
      "source": [
        "matches=[]"
      ],
      "id": "bd6380f3",
      "execution_count": null,
      "outputs": []
    },
    {
      "cell_type": "code",
      "metadata": {
        "id": "14d55226"
      },
      "source": [
        "\n",
        "for index, row in fixtures.iterrows():\n",
        "    matches.append({'Team1': row['Team1'], 'Team2': row['Team2'], 'winning_team': None})"
      ],
      "id": "14d55226",
      "execution_count": null,
      "outputs": []
    },
    {
      "cell_type": "code",
      "metadata": {
        "id": "b3ba3cea"
      },
      "source": [
        "matches=pd.DataFrame(matches)\n",
        "backup_pred_set = matches"
      ],
      "id": "b3ba3cea",
      "execution_count": null,
      "outputs": []
    },
    {
      "cell_type": "code",
      "metadata": {
        "id": "a2c393ae"
      },
      "source": [
        "backup_pred_set.head()"
      ],
      "id": "a2c393ae",
      "execution_count": null,
      "outputs": []
    },
    {
      "cell_type": "code",
      "metadata": {
        "id": "828af30c"
      },
      "source": [
        "matches=pd.get_dummies(matches, prefix=['Team1', 'Team2'], columns=['Team1', 'Team2'])"
      ],
      "id": "828af30c",
      "execution_count": null,
      "outputs": []
    },
    {
      "cell_type": "code",
      "metadata": {
        "id": "bf21c68b"
      },
      "source": [
        "matches.head()"
      ],
      "id": "bf21c68b",
      "execution_count": null,
      "outputs": []
    },
    {
      "cell_type": "code",
      "metadata": {
        "id": "961c0a22"
      },
      "source": [
        "matches=matches.drop(['winning_team'], axis=1)"
      ],
      "id": "961c0a22",
      "execution_count": null,
      "outputs": []
    },
    {
      "cell_type": "code",
      "metadata": {
        "id": "33e2b4ee"
      },
      "source": [
        "pred_set2=matches"
      ],
      "id": "33e2b4ee",
      "execution_count": null,
      "outputs": []
    },
    {
      "cell_type": "code",
      "metadata": {
        "id": "be4126d7"
      },
      "source": [
        "missing_cols = set(final.columns) - set(pred_set2.columns)\n",
        "for c in missing_cols:\n",
        "    pred_set2[c] = 0\n",
        "pred_set2 = pred_set2[final.columns]"
      ],
      "id": "be4126d7",
      "execution_count": null,
      "outputs": []
    },
    {
      "cell_type": "code",
      "metadata": {
        "id": "43fb7959"
      },
      "source": [
        "pred_set2 = pred_set2.drop(['Winner'], axis=1)"
      ],
      "id": "43fb7959",
      "execution_count": null,
      "outputs": []
    },
    {
      "cell_type": "code",
      "metadata": {
        "id": "d812e279"
      },
      "source": [
        "rf = RandomForestClassifier(n_estimators=100, max_depth=20,\n",
        "                              random_state=0)\n",
        "rf.fit(X_train, y_train)\n",
        "\n",
        "predictions2 = logreg.predict(pred_set2)\n",
        "print(predictions2)"
      ],
      "id": "d812e279",
      "execution_count": null,
      "outputs": []
    },
    {
      "cell_type": "code",
      "metadata": {
        "id": "c3b4ee44"
      },
      "source": [
        "eng=np.count_nonzero(predictions == 'England')\n",
        "pak=np.count_nonzero(predictions == 'Pakistan')\n",
        "ind=np.count_nonzero(predictions == 'India')\n",
        "aus=np.count_nonzero(predictions == 'Australia')\n",
        "sa=np.count_nonzero(predictions == 'South Africa')\n",
        "ban=np.count_nonzero(predictions == 'Bangladesh')\n",
        "sl=np.count_nonzero(predictions == 'Sri Lanka')\n",
        "irel=np.count_nonzero(predictions == 'Ireland')\n",
        "nz=np.count_nonzero(predictions == 'New Zealand')\n",
        "wi=np.count_nonzero(predictions == 'West Indies')\n",
        "fin=[pak,ind,nz,aus,sa,ban,sl,wi,irel,eng,ned]\n",
        "name=[\"pak\",\"ind\",\"nz\",\"aus\",\"sa\",\"ban\",\"sl\",\"wi\",\"irel\",\"eng\"]\n",
        "print(fin)"
      ],
      "id": "c3b4ee44",
      "execution_count": null,
      "outputs": []
    },
    {
      "cell_type": "code",
      "metadata": {
        "id": "7fb92b62"
      },
      "source": [
        "for i in range(len(fin)): \n",
        "      \n",
        "    # Find the minimum element in remaining  \n",
        "    # unsorted array \n",
        "    min_idx = i \n",
        "    for j in range(i+1, len(fin)): \n",
        "        if fin[min_idx] < fin[j]: \n",
        "            min_idx = j \n",
        "              \n",
        "    # Swap the found minimum element with  \n",
        "    # the first element    \n",
        "    name[i],name[min_idx]=name[min_idx],name[i]\n",
        "    fin[i], fin[min_idx] = fin[min_idx], fin[i]"
      ],
      "id": "7fb92b62",
      "execution_count": null,
      "outputs": []
    },
    {
      "cell_type": "code",
      "metadata": {
        "id": "0e0e8697"
      },
      "source": [
        "print(\"RANK        TEAM        POINTS\")\n",
        "for x in range(len(name)):\n",
        "    print(x+1,end=\"        \")\n",
        "    print(name[x], end=\"        \")\n",
        "  \n",
        "    print(fin[x]*2,end=\"         \")\n",
        "    print(\"\\n\")"
      ],
      "id": "0e0e8697",
      "execution_count": null,
      "outputs": []
    },
    {
      "cell_type": "code",
      "metadata": {
        "id": "27577224"
      },
      "source": [
        "# Semi Finalists are west indies,INDIA,NZ and AUSTRALIA.\n",
        "#SF1=WI vs NZ\n",
        "#SF2=IND vs AUS"
      ],
      "id": "27577224",
      "execution_count": null,
      "outputs": []
    },
    {
      "cell_type": "code",
      "metadata": {
        "id": "b921ebba"
      },
      "source": [
        "X_train.columns"
      ],
      "id": "b921ebba",
      "execution_count": null,
      "outputs": []
    },
    {
      "cell_type": "code",
      "metadata": {
        "id": "4c260d89"
      },
      "source": [
        "\n",
        "X_train.columns\n"
      ],
      "id": "4c260d89",
      "execution_count": null,
      "outputs": []
    },
    {
      "cell_type": "code",
      "metadata": {
        "id": "66e47d6b"
      },
      "source": [
        "sf1=[[0,0,0,0,0,0,0,0,0,0,0,0,0,0,0,0,0,0,0,0,0,0,0,0,0,0,0,0,0,0,0,0,1]]\n",
        "i=0\n",
        "chk=0\n",
        "for x in X_train.columns:\n",
        "    if(x=='Team1_West Indies' or x=='Team2_New Zeland'):\n",
        "        sf1[0][i]=1\n",
        "        if(x=='Team1_India'):\n",
        "            chk=i\n",
        "    i=i+1\n",
        "\n",
        "ressf1=rf.predict(sf1)\n",
        "print(ressf1)"
      ],
      "id": "66e47d6b",
      "execution_count": null,
      "outputs": []
    },
    {
      "cell_type": "code",
      "metadata": {
        "id": "531d15ab"
      },
      "source": [
        "sf2=[[0,0,0,0,0,1,0,0,0,0,0,0,0,0,0,0,0,0,0,0,0,0,0,0,0,0,0,0,0,1,0,0,0]]\n",
        "rsf2=rf.predict(sf2)\n",
        "print(rsf2)"
      ],
      "id": "531d15ab",
      "execution_count": null,
      "outputs": []
    },
    {
      "cell_type": "code",
      "metadata": {
        "id": "72f857f7"
      },
      "source": [
        "findataset=[[0,0,0,0,0,0,0,0,0,0,0,0,0,0,0,0,0,0,0,0,0,00,00,0,0,0,0,0,0,0,00,00,0]]\n",
        "i=0\n",
        "chk=0\n",
        "for x in X_train.columns:\n",
        "    if(x=='Team1_West Indies' or x=='Team_2_India'):\n",
        "        findataset[0][i]=1\n",
        "        \n",
        "    i=i+1\n",
        "\n",
        "ressf=rf.predict(findataset)\n",
        "print(\"The T20 world Cup 2020 winner is\")\n",
        "print(ressf)"
      ],
      "id": "72f857f7",
      "execution_count": null,
      "outputs": []
    },
    {
      "cell_type": "code",
      "metadata": {
        "id": "8f29d142"
      },
      "source": [],
      "id": "8f29d142",
      "execution_count": null,
      "outputs": []
    }
  ]
}